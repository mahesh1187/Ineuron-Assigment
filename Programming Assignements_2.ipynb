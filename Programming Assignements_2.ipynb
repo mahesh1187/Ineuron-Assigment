{
 "cells": [
  {
   "cell_type": "code",
   "execution_count": 17,
   "metadata": {},
   "outputs": [
    {
     "name": "stdout",
     "output_type": "stream",
     "text": [
      "Enter Km to convert into Miles:5\n",
      "5 km is equal to 3.125 miles\n"
     ]
    }
   ],
   "source": [
    "#Write a Python program to convert kilometers to miles?\n",
    "# formula - 1 miles = 1.6 KM\n",
    "\n",
    "k = int(input('Enter Km to convert into Miles:',))\n",
    "m = (1/1.6) *k\n",
    "print('{} km is equal to {} miles'.format(k,m))"
   ]
  },
  {
   "cell_type": "code",
   "execution_count": 18,
   "metadata": {},
   "outputs": [
    {
     "name": "stdout",
     "output_type": "stream",
     "text": [
      "Enter temperature in celius37.5\n",
      "37.5 Celsius is equal to 99.5 Fahrenheit\n"
     ]
    }
   ],
   "source": [
    "#Write a Python program to convert Celsius to Fahrenheit?\n",
    "# formula -Fahrenheit= (celsius * 1.8) + 32\n",
    "\n",
    "c= float(input('Enter temperature in celius',))\n",
    "f = (c*1.8)+32\n",
    "\n",
    "print('{} Celsius is equal to {} Fahrenheit'.format(c,f))"
   ]
  },
  {
   "cell_type": "code",
   "execution_count": 19,
   "metadata": {},
   "outputs": [
    {
     "name": "stdout",
     "output_type": "stream",
     "text": [
      "                                  2021\n",
      "\n",
      "      January                   February                   March\n",
      "Mo Tu We Th Fr Sa Su      Mo Tu We Th Fr Sa Su      Mo Tu We Th Fr Sa Su\n",
      "             1  2  3       1  2  3  4  5  6  7       1  2  3  4  5  6  7\n",
      " 4  5  6  7  8  9 10       8  9 10 11 12 13 14       8  9 10 11 12 13 14\n",
      "11 12 13 14 15 16 17      15 16 17 18 19 20 21      15 16 17 18 19 20 21\n",
      "18 19 20 21 22 23 24      22 23 24 25 26 27 28      22 23 24 25 26 27 28\n",
      "25 26 27 28 29 30 31                                29 30 31\n",
      "\n",
      "       April                      May                       June\n",
      "Mo Tu We Th Fr Sa Su      Mo Tu We Th Fr Sa Su      Mo Tu We Th Fr Sa Su\n",
      "          1  2  3  4                      1  2          1  2  3  4  5  6\n",
      " 5  6  7  8  9 10 11       3  4  5  6  7  8  9       7  8  9 10 11 12 13\n",
      "12 13 14 15 16 17 18      10 11 12 13 14 15 16      14 15 16 17 18 19 20\n",
      "19 20 21 22 23 24 25      17 18 19 20 21 22 23      21 22 23 24 25 26 27\n",
      "26 27 28 29 30            24 25 26 27 28 29 30      28 29 30\n",
      "                          31\n",
      "\n",
      "        July                     August                  September\n",
      "Mo Tu We Th Fr Sa Su      Mo Tu We Th Fr Sa Su      Mo Tu We Th Fr Sa Su\n",
      "          1  2  3  4                         1             1  2  3  4  5\n",
      " 5  6  7  8  9 10 11       2  3  4  5  6  7  8       6  7  8  9 10 11 12\n",
      "12 13 14 15 16 17 18       9 10 11 12 13 14 15      13 14 15 16 17 18 19\n",
      "19 20 21 22 23 24 25      16 17 18 19 20 21 22      20 21 22 23 24 25 26\n",
      "26 27 28 29 30 31         23 24 25 26 27 28 29      27 28 29 30\n",
      "                          30 31\n",
      "\n",
      "      October                   November                  December\n",
      "Mo Tu We Th Fr Sa Su      Mo Tu We Th Fr Sa Su      Mo Tu We Th Fr Sa Su\n",
      "             1  2  3       1  2  3  4  5  6  7             1  2  3  4  5\n",
      " 4  5  6  7  8  9 10       8  9 10 11 12 13 14       6  7  8  9 10 11 12\n",
      "11 12 13 14 15 16 17      15 16 17 18 19 20 21      13 14 15 16 17 18 19\n",
      "18 19 20 21 22 23 24      22 23 24 25 26 27 28      20 21 22 23 24 25 26\n",
      "25 26 27 28 29 30 31      29 30                     27 28 29 30 31\n",
      "\n"
     ]
    }
   ],
   "source": [
    "# Write a Python program to display calendar?\n",
    "import calendar as c\n",
    "\n",
    "print(c.calendar(2021))\n",
    "\n",
    "\n",
    "\n"
   ]
  },
  {
   "cell_type": "code",
   "execution_count": 20,
   "metadata": {},
   "outputs": [
    {
     "name": "stdout",
     "output_type": "stream",
     "text": [
      "Enter value of first variable: 4\n",
      "Enter value of second variable: 6\n",
      "After swaping both numbers\n",
      "first variable is: 6 \n",
      "second variable is: 4\n"
     ]
    }
   ],
   "source": [
    "#Write a Python program to swap two variables without temp variable ?\n",
    "a=int(input(\"Enter value of first variable: \"))\n",
    "b=int(input(\"Enter value of second variable: \"))\n",
    "\n",
    "a= a+b\n",
    "b=a-b\n",
    "a=a-b\n",
    "print('After swaping both numbers')\n",
    "print('first variable is:',a,'\\nsecond variable is:',b)\n",
    "\n"
   ]
  },
  {
   "cell_type": "code",
   "execution_count": 2,
   "metadata": {},
   "outputs": [
    {
     "name": "stdout",
     "output_type": "stream",
     "text": [
      "Enter variable below to solve quadratic equations: ax**2+bx+c=0\n",
      "Enter a (a!=0):5\n",
      "Enter b :6\n",
      "Enter c :6\n",
      "Result for equation 5x**2 +6x+6 = 0 are : \n",
      "\n",
      "type of roots: Two Complex Roots\n",
      "The solutions are (-6-22.9128784747792j) and (-6+22.9128784747792j)\n"
     ]
    }
   ],
   "source": [
    "#Write a Python program to solve quadratic equation?\n",
    "# Formula = ax**2+bx+c=0 where a can not blank\n",
    "\n",
    "import cmath as cm\n",
    "\n",
    "print('Enter variable below to solve quadratic equations: ax**2+bx+c=0')\n",
    "\n",
    "a= int(input('Enter a (a!=0):',))\n",
    "b= int(input('Enter b :'))\n",
    "c= int(input('Enter c :'))\n",
    "\n",
    "# lets calculate discriminate\n",
    "d= (b**2)-(4*a*c)\n",
    "\n",
    "# quadratic have two solution hence below are the solutions\n",
    "\n",
    "s1 = (-b-cm.sqrt(d)/2*a)\n",
    "s2= (-b+cm.sqrt(d)/2*a)\n",
    "\n",
    "print('Result for equation {}x**2 +{}x+{} = 0 are : \\n'.format(a,b,c))\n",
    "\n",
    "if d>0:\n",
    "    print('type of Roots: Two Distinct Real Roots')\n",
    "elif d==0:\n",
    "    print('type of roots : Two Equal Real Roots')\n",
    "elif d<0:\n",
    "    print('type of roots: Two Complex Roots')\n",
    "\n",
    "print('The solutions are {} and {}'.format(s1,s2))\n",
    "    \n",
    "\n",
    "\n",
    "\n",
    "\n"
   ]
  },
  {
   "cell_type": "code",
   "execution_count": null,
   "metadata": {},
   "outputs": [],
   "source": []
  }
 ],
 "metadata": {
  "kernelspec": {
   "display_name": "Python 3",
   "language": "python",
   "name": "python3"
  },
  "language_info": {
   "codemirror_mode": {
    "name": "ipython",
    "version": 3
   },
   "file_extension": ".py",
   "mimetype": "text/x-python",
   "name": "python",
   "nbconvert_exporter": "python",
   "pygments_lexer": "ipython3",
   "version": "3.8.5"
  }
 },
 "nbformat": 4,
 "nbformat_minor": 4
}
