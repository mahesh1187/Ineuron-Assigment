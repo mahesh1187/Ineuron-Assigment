{
 "cells": [
  {
   "cell_type": "code",
   "execution_count": 1,
   "metadata": {},
   "outputs": [
    {
     "name": "stdout",
     "output_type": "stream",
     "text": [
      "Hello Python\n"
     ]
    }
   ],
   "source": [
    "#Q1 -1.Write a Python program to print \"Hello Python\"?\n",
    "\n",
    "print('Hello Python')"
   ]
  },
  {
   "cell_type": "code",
   "execution_count": 2,
   "metadata": {},
   "outputs": [
    {
     "name": "stdout",
     "output_type": "stream",
     "text": [
      "Enter the number :5\n",
      "Enter the number :6\n",
      "Addition of a and b 11\n"
     ]
    }
   ],
   "source": [
    "#Q2 Write a Python program to do arithmetical operations addition and division.?\n",
    "a= int(input(\"Enter the number :\",))\n",
    "b= int(input(\"Enter the number :\",))\n",
    "c=a+b\n",
    "print('Addition of a and b {}'.format(c))\n",
    "\n"
   ]
  },
  {
   "cell_type": "code",
   "execution_count": 4,
   "metadata": {},
   "outputs": [
    {
     "name": "stdout",
     "output_type": "stream",
     "text": [
      "Enter the number :4\n",
      "Enter the number :2\n",
      "Division of a and b 2.0\n"
     ]
    }
   ],
   "source": [
    "#Q2 Write a Python program to do arithmetical operations addition and division.?\n",
    "a= int(input(\"Enter the number :\",))\n",
    "b= int(input(\"Enter the number :\",))\n",
    "c=a/b\n",
    "print('Division of a and b {}'.format(c))\n"
   ]
  },
  {
   "cell_type": "code",
   "execution_count": 5,
   "metadata": {},
   "outputs": [
    {
     "name": "stdout",
     "output_type": "stream",
     "text": [
      "Enter the base of Triangle :5\n",
      "Enter the height of Triangle :2\n",
      "Area of Triangle is 5.0\n"
     ]
    }
   ],
   "source": [
    "#Q3.\tWrite a Python program to find the area of a triangle?\n",
    "b= int(input('Enter the base of Triangle :',))\n",
    "h= int(input('Enter the height of Triangle :',))\n",
    "a= (b*h)/2\n",
    "print('Area of Triangle is {}'.format(a))"
   ]
  },
  {
   "cell_type": "code",
   "execution_count": 14,
   "metadata": {},
   "outputs": [
    {
     "name": "stdout",
     "output_type": "stream",
     "text": [
      "Enter the first number :5\n",
      "Enter the second number :6\n",
      "first number is a : 5 \n",
      "second number is b: 6\n",
      "\n",
      "after Swaping number\n",
      "\n",
      "first number is a : 6 \n",
      "second number is b: 5\n"
     ]
    }
   ],
   "source": [
    "#Q4.\tWrite a Python program to swap two variables?\n",
    "a=int(input('Enter the first number :',))\n",
    "b=int(input('Enter the second number :',)) \n",
    "print('first number is a :',a, '\\nsecond number is b:',b)\n",
    "c = a+b\n",
    "a = c-a\n",
    "b = c-b\n",
    "print ('\\nAfter Swaping number')\n",
    "print('\\nfirst number is a :',a, '\\nsecond number is b:',b)\n"
   ]
  },
  {
   "cell_type": "code",
   "execution_count": 19,
   "metadata": {},
   "outputs": [
    {
     "name": "stdout",
     "output_type": "stream",
     "text": [
      "58\n"
     ]
    }
   ],
   "source": [
    "#Q5.\tWrite a Python program to generate a random number?\n",
    "import random\n",
    "\n",
    "print(random.randint(0,100))\n"
   ]
  },
  {
   "cell_type": "code",
   "execution_count": null,
   "metadata": {},
   "outputs": [],
   "source": []
  }
 ],
 "metadata": {
  "kernelspec": {
   "display_name": "Python 3",
   "language": "python",
   "name": "python3"
  },
  "language_info": {
   "codemirror_mode": {
    "name": "ipython",
    "version": 3
   },
   "file_extension": ".py",
   "mimetype": "text/x-python",
   "name": "python",
   "nbconvert_exporter": "python",
   "pygments_lexer": "ipython3",
   "version": "3.8.5"
  }
 },
 "nbformat": 4,
 "nbformat_minor": 4
}
