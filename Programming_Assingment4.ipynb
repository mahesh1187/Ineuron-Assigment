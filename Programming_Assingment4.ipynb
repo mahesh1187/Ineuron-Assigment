{
 "cells": [
  {
   "cell_type": "code",
   "execution_count": 7,
   "metadata": {},
   "outputs": [
    {
     "name": "stdout",
     "output_type": "stream",
     "text": [
      "Enter the Number to find Factorial :6\n",
      "Factorial of 6 = 720 \n"
     ]
    }
   ],
   "source": [
    "#1.\tWrite a Python Program to Find the Factorial of a Number?\n",
    "\n",
    "n =int(input('Enter the Number to find Factorial :'))\n",
    "f=1\n",
    "for i in range(1,n+1):\n",
    "        f = f*i\n",
    "        \n",
    "print('Factorial of {} = {} '.format(n,f))\n"
   ]
  },
  {
   "cell_type": "code",
   "execution_count": 11,
   "metadata": {},
   "outputs": [
    {
     "name": "stdout",
     "output_type": "stream",
     "text": [
      "Enter the number to generate multipication table :9\n",
      "9 X 1 = 9\n",
      "9 X 2 = 18\n",
      "9 X 3 = 27\n",
      "9 X 4 = 36\n",
      "9 X 5 = 45\n",
      "9 X 6 = 54\n",
      "9 X 7 = 63\n",
      "9 X 8 = 72\n",
      "9 X 9 = 81\n",
      "9 X 10 = 90\n"
     ]
    }
   ],
   "source": [
    "#2.\tWrite a Python Program to Display the multiplication Table?\n",
    "n= int(input('Enter the number to generate multipication table :'))\n",
    "m = 1\n",
    "\n",
    "for i in range(1,11):\n",
    "    m = n*i\n",
    "    print('{} X {} = {}'.format(n,i,m))\n",
    "        \n",
    "\n"
   ]
  },
  {
   "cell_type": "code",
   "execution_count": 28,
   "metadata": {},
   "outputs": [
    {
     "name": "stdout",
     "output_type": "stream",
     "text": [
      "Enter the series occurance 9\n",
      "9 Fibonacci sequence =  [0, 1, 1, 2, 3, 5, 8, 13, 21, 34]\n"
     ]
    }
   ],
   "source": [
    "#3.\tWrite a Python Program to Print the Fibonacci sequence?\n",
    "n=int(input(\"Enter the series occurance \"))\n",
    "l=[]\n",
    "\n",
    "for i in range(n+1):\n",
    "    if i <2:\n",
    "        l.append(i)\n",
    "    else:\n",
    "        s = l[i-2]+l[i-1]\n",
    "        l.append(s)\n",
    "print('{} Fibonacci sequence = '.format(n),l)      \n",
    "\n",
    "    \n"
   ]
  },
  {
   "cell_type": "code",
   "execution_count": 54,
   "metadata": {},
   "outputs": [
    {
     "name": "stdout",
     "output_type": "stream",
     "text": [
      "Enter the number to check Armstrong or not :889745\n",
      "889745 is not a Armstrong Number because sum of digit is 1193099\n"
     ]
    }
   ],
   "source": [
    "#4.\tWrite a Python Program to Check Armstrong Number?\n",
    "n=input('Enter the number to check Armstrong or not :')\n",
    "p= len(n)\n",
    "k = list(n)\n",
    "s=0\n",
    "for i in range(p):\n",
    "    s= s+(int(k[i])**p)\n",
    "if int(n)==s:\n",
    "    print('{} is a Armstrong Number because sum of digit is {}'.format(n,s))\n",
    "else:\n",
    "    print('{} is not a Armstrong Number because sum of digit is {}'.format(n,s))\n",
    "\n",
    "\n"
   ]
  },
  {
   "cell_type": "code",
   "execution_count": 102,
   "metadata": {},
   "outputs": [
    {
     "name": "stdout",
     "output_type": "stream",
     "text": [
      "enter First interval value :1000\n",
      "enter Second interval value :6000\n",
      "All Armstrong digits listed below for interval 1000-6000\n",
      "1634 is a Armstrong Number because sum of digit is 1634\n"
     ]
    }
   ],
   "source": [
    "#5.\tWrite a Python Program to Find Armstrong Number in an Interval?\n",
    "x= int(input('enter First interval value :'))\n",
    "y= int(input('enter Second interval value :'))\n",
    "print('All Armstrong digits listed below for interval {}-{}'.format(x,y))\n",
    "Armstrong(x,y)\n",
    "\n",
    "def Armstrong (x,y):\n",
    "    l=[]\n",
    "    for i in range(x,y+1):\n",
    "        l.append(i)\n",
    "    for j in range(len(l)):\n",
    "        p = len(str(l[j]))\n",
    "        h = list(str(l[j]))\n",
    "        s=0\n",
    "        for k in range(p):\n",
    "            s = s+(int(h[k])**p)\n",
    "        if l[j] == s:\n",
    "            print('{} is a Armstrong Number because sum of digit= {}'.format(l[j],s))\n",
    "        \n",
    "    "
   ]
  },
  {
   "cell_type": "code",
   "execution_count": 121,
   "metadata": {},
   "outputs": [
    {
     "name": "stdout",
     "output_type": "stream",
     "text": [
      "enter your numbers:20\n",
      "sum of natural number 20 = 210.0\n"
     ]
    }
   ],
   "source": [
    "#6.\tWrite a Python Program to Find the Sum of Natural Numbers?\n",
    "# Sum of Nutrual number = n*(n+1)/2\n",
    "\n",
    "naturalsum(int(input('enter your numbers:')))\n",
    "def naturalsum (n):    \n",
    "    s = n*(n+1)/2\n",
    "    print('sum of natural number {} = {}'.format(n,s))\n",
    "    \n",
    "    \n",
    "    \n"
   ]
  }
 ],
 "metadata": {
  "kernelspec": {
   "display_name": "Python 3",
   "language": "python",
   "name": "python3"
  },
  "language_info": {
   "codemirror_mode": {
    "name": "ipython",
    "version": 3
   },
   "file_extension": ".py",
   "mimetype": "text/x-python",
   "name": "python",
   "nbconvert_exporter": "python",
   "pygments_lexer": "ipython3",
   "version": "3.8.5"
  }
 },
 "nbformat": 4,
 "nbformat_minor": 4
}
