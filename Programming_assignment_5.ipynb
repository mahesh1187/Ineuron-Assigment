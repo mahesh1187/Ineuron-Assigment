{
 "cells": [
  {
   "cell_type": "code",
   "execution_count": 1,
   "metadata": {},
   "outputs": [
    {
     "name": "stdout",
     "output_type": "stream",
     "text": [
      "Enter the first number:5\n",
      "Enter the second number:2\n",
      "LCM of given numbers 5,2 is 10\n"
     ]
    }
   ],
   "source": [
    "#Q1-Write a Python Program to Find LCM?\n",
    "\n",
    "a=int(input(\"Enter the first number:\"))\n",
    "b=int(input(\"Enter the second number:\"))\n",
    "if(a>b):\n",
    "    l=a\n",
    "else:\n",
    "    l=b\n",
    "while(True):\n",
    "    if(l%a==0 and l%b==0):\n",
    "        print(\"LCM of given numbers {},{} is {}\".format(a,b,l))\n",
    "        break\n",
    "    l=l+1\n",
    "\n",
    "\n",
    "\n"
   ]
  },
  {
   "cell_type": "code",
   "execution_count": 66,
   "metadata": {},
   "outputs": [
    {
     "name": "stdout",
     "output_type": "stream",
     "text": [
      "HCF of given number 2,8 is :2\n"
     ]
    }
   ],
   "source": [
    "#2.Write a Python Program to Find HCF?\n",
    "\n",
    "def find_hcf(x, y):\n",
    "\n",
    "    if x > y:\n",
    "        min1 = y\n",
    "    else:\n",
    "        min1 = x\n",
    "    for i in range(1, min1+1):\n",
    "        if((x % i == 0) and (y % i == 0)):\n",
    "            hcf = i \n",
    "    print('HCF of given number {},{} is :{}'.format(x,y,hcf))\n",
    "\n",
    "\n",
    "find_hcf(2,8)\n"
   ]
  },
  {
   "cell_type": "code",
   "execution_count": 20,
   "metadata": {},
   "outputs": [
    {
     "name": "stdout",
     "output_type": "stream",
     "text": [
      "The decimal value of 25 is:\n",
      "Binary value of 25 is 0b11001\n",
      "Octal value of 25 is 0o31\n",
      "Hexadecimal value of 25 is 0x19\n"
     ]
    }
   ],
   "source": [
    "#3.3.\tWrite a Python Program to Convert Decimal to Binary, Octal and Hexadecimal?\n",
    "#dec = int(input('Enter the number to convert in binary,octal,Hexadecimal:'))\n",
    "\n",
    "\n",
    "def convrtnm(x):\n",
    "    print(\"The decimal value of\", x, \"is:\")\n",
    "    print(\"Binary value of\",x,\"is\",bin(x))\n",
    "    print(\"Octal value of\",x,\"is\",oct(x))\n",
    "    print(\"Hexadecimal value of\",x,\"is\",hex(x))\n",
    "\n",
    "convrtnm(25)\n"
   ]
  },
  {
   "cell_type": "code",
   "execution_count": 31,
   "metadata": {},
   "outputs": [
    {
     "name": "stdout",
     "output_type": "stream",
     "text": [
      "k\n",
      "The ASCII value of given character k is  107\n"
     ]
    }
   ],
   "source": [
    "#4.Write a Python Program To Find ASCII value of a character?\n",
    "def Asciifinder (x=input()):\n",
    "    print('The ASCII value of given character {} is '.format(x),ord(x))\n",
    "\n",
    "\n",
    "Asciifinder()"
   ]
  },
  {
   "cell_type": "code",
   "execution_count": 33,
   "metadata": {},
   "outputs": [
    {
     "name": "stdout",
     "output_type": "stream",
     "text": [
      "Select operation.\n",
      "1.Add\n",
      "2.Subtract\n",
      "3.Multiply\n",
      "4.Divide\n",
      "Enter choice(1/2/3/4): 3\n",
      "Enter first number: 10\n",
      "Enter second number: 2\n",
      "10.0 * 2.0 = 20.0\n"
     ]
    }
   ],
   "source": [
    "#5.Write a Python Program to Make a Simple Calculator with 4 basic mathematical operations?\n",
    "\n",
    "# This function adds two numbers\n",
    "def add(x, y):\n",
    "    return x + y\n",
    "\n",
    "# This function subtracts two numbers\n",
    "def subtract(x, y):\n",
    "    return x - y\n",
    "\n",
    "# This function multiplies two numbers\n",
    "def multiply(x, y):\n",
    "    return x * y\n",
    "\n",
    "# This function divides two numbers\n",
    "def divide(x, y):\n",
    "    return x / y\n",
    "\n",
    "\n",
    "print(\"Select Operation to perform.\")\n",
    "print(\"1.Add\")\n",
    "print(\"2.Subtract\")\n",
    "print(\"3.Multiply\")\n",
    "print(\"4.Divide\")\n",
    "\n",
    "while True:\n",
    "    # Take input from the user\n",
    "    choice = input(\"Enter choice(1/2/3/4): \")\n",
    "\n",
    "    # Check if choice is one of the four options\n",
    "    if choice in ('1', '2', '3', '4'):\n",
    "        x = float(input(\"Enter first number: \"))\n",
    "        y = float(input(\"Enter second number: \"))\n",
    "\n",
    "        if choice == '1':\n",
    "            print(x, \"+\", y, \"=\", add(x, y))\n",
    "\n",
    "        elif choice == '2':\n",
    "            print(x, \"-\", y, \"=\", subtract(x, y))\n",
    "\n",
    "        elif choice == '3':\n",
    "            print(x, \"*\", y, \"=\", multiply(x, y))\n",
    "\n",
    "        elif choice == '4':\n",
    "            print(x, \"/\", y, \"=\", divide(x, y))\n",
    "        break\n",
    "    else:\n",
    "        print(\"Invalid Input\")\n",
    "\n",
    "\n",
    "\n",
    "\n",
    "\n"
   ]
  },
  {
   "cell_type": "code",
   "execution_count": null,
   "metadata": {},
   "outputs": [],
   "source": []
  }
 ],
 "metadata": {
  "kernelspec": {
   "display_name": "Python 3",
   "language": "python",
   "name": "python3"
  },
  "language_info": {
   "codemirror_mode": {
    "name": "ipython",
    "version": 3
   },
   "file_extension": ".py",
   "mimetype": "text/x-python",
   "name": "python",
   "nbconvert_exporter": "python",
   "pygments_lexer": "ipython3",
   "version": "3.8.5"
  }
 },
 "nbformat": 4,
 "nbformat_minor": 4
}
