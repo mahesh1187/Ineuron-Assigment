{
 "cells": [
  {
   "cell_type": "code",
   "execution_count": 4,
   "metadata": {},
   "outputs": [
    {
     "name": "stdout",
     "output_type": "stream",
     "text": [
      "Enter the size of the array: 4\n",
      "Enter array elements: \n",
      "12\n",
      "15\n",
      "18\n",
      "21\n",
      "Sum of array is: 66\n"
     ]
    }
   ],
   "source": [
    "#1.Write a Python Program to find sum of array?\n",
    "\n",
    "lst = []\n",
    "num = int(input(\"Enter the size of the array: \"))\n",
    "print(\"Enter array elements: \",)\n",
    "for n in range(num):\n",
    "  numbers = int(input())\n",
    "  lst.append(numbers)\n",
    "print(\"Sum of array is:\", sum(lst))"
   ]
  },
  {
   "cell_type": "code",
   "execution_count": 7,
   "metadata": {},
   "outputs": [
    {
     "name": "stdout",
     "output_type": "stream",
     "text": [
      "Enter the size of the array:3\n",
      "Enter the array elements:\n",
      "13\n",
      "25\n",
      "89\n",
      "Largest element in array is : 89\n"
     ]
    }
   ],
   "source": [
    "#2.Write a Python Program to find largest element in an array?\n",
    "lst =[]\n",
    "n = int(input('Enter the size of the array:'))\n",
    "print('Enter the array elements:')\n",
    "for i in range(n):\n",
    "    lst.append(int(input()))\n",
    "print('Largest element in array is :', max(lst))\n"
   ]
  },
  {
   "cell_type": "code",
   "execution_count": 16,
   "metadata": {},
   "outputs": [
    {
     "name": "stdout",
     "output_type": "stream",
     "text": [
      "Enter the size of the array:3\n",
      "Enter the array elements:\n",
      "1\n",
      "2\n",
      "5\n",
      "Enter rotation number to rotate the array:3\n",
      "current array is [1, 2, 5]\n",
      "Array is after rotation : 1\n",
      "deque([2, 5, 1])\n",
      "\n",
      "\n",
      "Array is after rotation : 2\n",
      "deque([5, 1, 2])\n",
      "\n",
      "\n",
      "Array is after rotation : 3\n",
      "deque([1, 2, 5])\n",
      "\n",
      "\n"
     ]
    }
   ],
   "source": [
    "#3.Write a Python Program for array rotation?\n",
    "from collections import deque\n",
    "lst =[]\n",
    "n = int(input('Enter the size of the array:'))\n",
    "print('Enter the array elements:')\n",
    "for i in range(n):\n",
    "    lst.append(int(input()))\n",
    "# rotate the array n times based on User input\n",
    "r = int(input('Enter rotation number to rotate the array:'))\n",
    "print('current array is {}'.format(lst))\n",
    "for i in range(r):\n",
    "    d = deque(lst)\n",
    "    d.rotate(-(i+1))\n",
    "    print('Array is after rotation :',i+1)\n",
    "    print(d)\n",
    "     \n"
   ]
  },
  {
   "cell_type": "code",
   "execution_count": 19,
   "metadata": {},
   "outputs": [
    {
     "name": "stdout",
     "output_type": "stream",
     "text": [
      "Enter the size of the array:3\n",
      "Enter the array elements:\n",
      "1\n",
      "2\n",
      "3\n",
      "Current Array is: [1, 2, 3]\n",
      "please provide split postion:2\n",
      "after spliting , new array is :\n",
      "3 1 2 "
     ]
    }
   ],
   "source": [
    "#4.Write a Python Program to Split the array and add the first part to the end?\n",
    "\n",
    "\n",
    "lst =[]\n",
    "n = int(input('Enter the size of the array:'))\n",
    "print('Enter the array elements:')\n",
    "for i in range(n):\n",
    "    lst.append(int(input()))\n",
    "\n",
    "\n",
    "print('Current Array is:',lst)\n",
    "\n",
    "def splitArr(a,  k): \n",
    "   b = a[:k]\n",
    "   return (a[k::]+b[::])\n",
    "          \n",
    "  \n",
    "Spostion = int(input('please provide split postion:'))\n",
    "\n",
    "arr = splitArr(lst, Spostion)\n",
    "print('after spliting , new array is :')\n",
    "for i in range(0, len(lst)): \n",
    "    print(arr[i], end = ' ')"
   ]
  },
  {
   "cell_type": "code",
   "execution_count": 31,
   "metadata": {},
   "outputs": [
    {
     "name": "stdout",
     "output_type": "stream",
     "text": [
      "Please enter 5 elements in\n",
      "2\n",
      "5\n",
      "4\n",
      "8\n",
      "6\n",
      "this array is Monotonic = False\n"
     ]
    }
   ],
   "source": [
    "#5.Write a Python Program to check if given array is Monotonic?\n",
    "\n",
    "def l (n):\n",
    "    print('Please enter {} elements in'.format(n))\n",
    "    lst =[]    \n",
    "    for i in range(n):\n",
    "        lst.append(int(input()))\n",
    "    return lst\n",
    "\n",
    "def isMonotonic(A):    \n",
    "    return (all(A[i] <= A[i + 1] for i in range(len(A) - 1)) or all(A[i] >= A[i + 1] for i in range(len(A) - 1)))\n",
    "\n",
    "print('This array is Monotonic =' ,isMonotonic(l(5)))\n",
    "    "
   ]
  },
  {
   "cell_type": "code",
   "execution_count": null,
   "metadata": {},
   "outputs": [],
   "source": []
  }
 ],
 "metadata": {
  "kernelspec": {
   "display_name": "Python 3",
   "language": "python",
   "name": "python3"
  },
  "language_info": {
   "codemirror_mode": {
    "name": "ipython",
    "version": 3
   },
   "file_extension": ".py",
   "mimetype": "text/x-python",
   "name": "python",
   "nbconvert_exporter": "python",
   "pygments_lexer": "ipython3",
   "version": "3.8.5"
  }
 },
 "nbformat": 4,
 "nbformat_minor": 4
}
