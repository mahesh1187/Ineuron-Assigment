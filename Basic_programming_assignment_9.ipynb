{
 "cells": [
  {
   "cell_type": "code",
   "execution_count": 104,
   "metadata": {},
   "outputs": [
    {
     "name": "stdout",
     "output_type": "stream",
     "text": [
      "Given number 125 is not a Disarium\n"
     ]
    }
   ],
   "source": [
    "#1.Write a Python program to check if the given number is a Disarium Number?\n",
    "def chk_disarium(x):\n",
    "    s = 0\n",
    "    k = x\n",
    "    x = list(str(x))\n",
    "    for i in range(len(x)):\n",
    "        p =x[i]\n",
    "        s = s + int(p) ** (i+1)    \n",
    "    if k ==s:\n",
    "        print('Given number {} is Disarium'.format(k))\n",
    "    else:\n",
    "        print('Given number {} is not a Disarium'.format(k))\n",
    "    \n",
    "\n",
    "chk_disarium(125)"
   ]
  },
  {
   "cell_type": "code",
   "execution_count": 105,
   "metadata": {},
   "outputs": [
    {
     "name": "stdout",
     "output_type": "stream",
     "text": [
      "Disarium numbers between 1 and 100:\n",
      "1,2,3,4,5,6,7,8,9,89,"
     ]
    }
   ],
   "source": [
    "#2.Write a Python program to print all disarium numbers between 1 to 100?\n",
    "def chk_rng_dis(a,b):\n",
    "    print('Disarium numbers between {} and {}:'.format(a,b))\n",
    "    for i in range(a,b+1):\n",
    "        k = chk_disarium1(i)\n",
    "        if k==i:\n",
    "            print(i,end=',')\n",
    "\n",
    "def chk_disarium1(x):\n",
    "    s = 0\n",
    "    k = x\n",
    "    x = list(str(x))\n",
    "    for i in range(len(x)):\n",
    "        p =x[i]\n",
    "        s = s + int(p) ** (i+1)\n",
    "    return s\n",
    "    \n",
    "    \n",
    "chk_rng_dis(1,100)"
   ]
  },
  {
   "cell_type": "code",
   "execution_count": 106,
   "metadata": {},
   "outputs": [
    {
     "name": "stdout",
     "output_type": "stream",
     "text": [
      "Enter a number: 13\n",
      "13  is a Happy Number!!!\n"
     ]
    }
   ],
   "source": [
    "#3.Write a Python program to check if the given number is Happy Number?\n",
    "def isHappyNumber(n):    \n",
    "    digit = sum = 0    \n",
    "    while(n > 0):    \n",
    "        digit = n % 10 \n",
    "        sum = sum + (digit * digit)    \n",
    "        n = n // 10   \n",
    "    return sum   \n",
    "        \n",
    "num = int(input(\"Enter a number: \"))    \n",
    "result = num    \n",
    "     \n",
    "while(result != 1 and result != 4):    \n",
    "    result = isHappyNumber(result)   \n",
    "     \n",
    "if(result == 1):    \n",
    "    print(num, \" is a Happy Number!!!\")   \n",
    "else:    \n",
    "    print(num, \" is an Unhappy Number!!!\")\n",
    "        \n",
    "    "
   ]
  },
  {
   "cell_type": "code",
   "execution_count": 107,
   "metadata": {},
   "outputs": [],
   "source": [
    "#4.Write a Python program to print all happy numbers between 1 and 100?\n",
    "def chk_rng_happy(a,b):\n",
    "    print('Happy numbers between {} and {}:'.format(a,b))\n",
    "    for i in range(a,b+1):\n",
    "        k = isHappyNumber(i)\n",
    "        while(k != 1 and k != 4):    \n",
    "            k = isHappyNumber(k)     \n",
    "        if(k == 1):    \n",
    "            print(i, end=\",\") \n",
    "        \n",
    "def isHappyNumber(n):    \n",
    "    digit = sum = 0    \n",
    "    while(n > 0):    \n",
    "        digit = n % 10 \n",
    "        sum = sum + (digit * digit)    \n",
    "        n = n // 10   \n",
    "    return sum  "
   ]
  },
  {
   "cell_type": "code",
   "execution_count": 108,
   "metadata": {},
   "outputs": [
    {
     "name": "stdout",
     "output_type": "stream",
     "text": [
      "Happy numbers between 1 and 100:\n",
      "1,7,10,13,19,23,28,31,32,44,49,68,70,79,82,86,91,94,97,100,"
     ]
    }
   ],
   "source": [
    "chk_rng_happy(1,100)"
   ]
  },
  {
   "cell_type": "code",
   "execution_count": 109,
   "metadata": {},
   "outputs": [
    {
     "name": "stdout",
     "output_type": "stream",
     "text": [
      "Given number 156 is Harshad Number\n"
     ]
    }
   ],
   "source": [
    "#5.Write a Python program to determine whether the given number is a Harshad Number?\n",
    "def isHarshad(n):\n",
    "    sum = 0\n",
    "    k = list(str(n))\n",
    "    for i in k:\n",
    "        sum = sum+int(i)\n",
    "    if n%sum==0:\n",
    "        print('Given number {} is Harshad Number'.format(n))\n",
    "        \n",
    "isHarshad(156) \n",
    "\n"
   ]
  },
  {
   "cell_type": "code",
   "execution_count": 110,
   "metadata": {},
   "outputs": [
    {
     "name": "stdout",
     "output_type": "stream",
     "text": [
      "Pronic numbers between 1 and 100\n",
      "2,6,12,20,30,42,56,72,90,"
     ]
    }
   ],
   "source": [
    "#6.Write a Python program to print all pronic numbers between 1 and 100?\n",
    "def ispronic(n):\n",
    "    f=0\n",
    "    for i in range(n+1):\n",
    "        if ((i*(i+1))==n):\n",
    "            f = n\n",
    "            break\n",
    "    return f\n",
    "        \n",
    "def chk_rng_pronic(x,y):\n",
    "    print('Pronic numbers between {} and {}'.format(x,y))\n",
    "    for i in range(x,y+1):        \n",
    "        if (ispronic(i)==i):\n",
    "            print(i, end= \",\")\n",
    "        \n",
    "chk_rng_pronic(1,100)\n",
    "\n"
   ]
  }
 ],
 "metadata": {
  "kernelspec": {
   "display_name": "Python 3",
   "language": "python",
   "name": "python3"
  },
  "language_info": {
   "codemirror_mode": {
    "name": "ipython",
    "version": 3
   },
   "file_extension": ".py",
   "mimetype": "text/x-python",
   "name": "python",
   "nbconvert_exporter": "python",
   "pygments_lexer": "ipython3",
   "version": "3.8.5"
  }
 },
 "nbformat": 4,
 "nbformat_minor": 4
}
