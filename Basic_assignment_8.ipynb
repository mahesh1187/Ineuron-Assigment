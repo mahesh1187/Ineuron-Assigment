{
 "cells": [
  {
   "cell_type": "code",
   "execution_count": 8,
   "metadata": {},
   "outputs": [
    {
     "data": {
      "text/plain": [
       "[[17, 15, 4], [10, 12, 9], [11, 13, 18]]"
      ]
     },
     "execution_count": 8,
     "metadata": {},
     "output_type": "execute_result"
    }
   ],
   "source": [
    "#1.Write a Python Program to Add Two Matrices?\n",
    "x = [[12,7,3],\n",
    "    [4 ,5,6],\n",
    "    [7 ,8,9]]\n",
    "\n",
    "y = [[5,8,1],\n",
    "    [6,7,3],\n",
    "    [4,5,9]]\n",
    "\n",
    "def add_matrix(X,Y):\n",
    "    result = [[X[i][j] + Y[i][j]  for j in range(len(X[0]))] for i in range(len(X))]\n",
    "    return result\n",
    "\n",
    "add_matrix(x,y)"
   ]
  },
  {
   "cell_type": "code",
   "execution_count": 10,
   "metadata": {},
   "outputs": [
    {
     "data": {
      "text/plain": [
       "[[5, 4, 24], [16, 40, 36]]"
      ]
     },
     "execution_count": 10,
     "metadata": {},
     "output_type": "execute_result"
    }
   ],
   "source": [
    "#2.Write a Python Program to Multiply Two Matrices?\n",
    "def mul_matrix(x,y):\n",
    "    result = [[x[i][j] * y[i][j]  for j in range(len(x[0]))] for i in range(len(x))]\n",
    "    return result\n",
    "\n",
    "mul_matrix([[1,2,3],[4,5,6]],[[5,2,8],[4,8,6]])\n"
   ]
  },
  {
   "cell_type": "code",
   "execution_count": 17,
   "metadata": {},
   "outputs": [
    {
     "data": {
      "text/plain": [
       "[[4, 2, 8, 9], [5, 6, 9, 7]]"
      ]
     },
     "execution_count": 17,
     "metadata": {},
     "output_type": "execute_result"
    }
   ],
   "source": [
    "#3.Write a Python Program to Transpose a Matrix?\n",
    "\n",
    "def trans_mat(X):    \n",
    "    result = [[X[j][i] for j in range(len(X))] for i in range(len(X[0]))]\n",
    "    return result\n",
    "trans_mat([[4,5],[2,6],[8,9],[9,7]])"
   ]
  },
  {
   "cell_type": "code",
   "execution_count": 20,
   "metadata": {},
   "outputs": [
    {
     "name": "stdout",
     "output_type": "stream",
     "text": [
      ",\n",
      "and\n",
      "capital\n",
      "delhi\n",
      "delhi\n",
      "in\n",
      "india\n",
      "is\n",
      "is\n",
      "lives\n",
      "mahesh\n",
      "of\n",
      "this\n"
     ]
    }
   ],
   "source": [
    "#4.Write a Python Program to Sort Words in Alphabetic Order?\n",
    "def sort_alpha(a):\n",
    "    w = a.split()\n",
    "    w.sort()\n",
    "    for i in w:\n",
    "        print(i)\n",
    "        \n",
    "sort_alpha('this is mahesh and lives in delhi , delhi is capital of india')\n"
   ]
  },
  {
   "cell_type": "code",
   "execution_count": 21,
   "metadata": {},
   "outputs": [
    {
     "data": {
      "text/plain": [
       "'Hello he said and went'"
      ]
     },
     "execution_count": 21,
     "metadata": {},
     "output_type": "execute_result"
    }
   ],
   "source": [
    "#5.Write a Python Program to Remove Punctuation From a String?\n",
    "\n",
    "def remove_pun(s):\n",
    "    pun = '''!()-[]{};:'\"\\,<>./?@#$%^&*_~'''\n",
    "    clean_str = \"\"\n",
    "    for c in s:\n",
    "        if c not in pun:\n",
    "            clean_str = clean_str+c\n",
    "    return clean_str\n",
    "\n",
    "\n",
    "remove_pun(\"Hello!!!, he said ---and went.\")"
   ]
  },
  {
   "cell_type": "code",
   "execution_count": null,
   "metadata": {},
   "outputs": [],
   "source": []
  }
 ],
 "metadata": {
  "kernelspec": {
   "display_name": "Python 3",
   "language": "python",
   "name": "python3"
  },
  "language_info": {
   "codemirror_mode": {
    "name": "ipython",
    "version": 3
   },
   "file_extension": ".py",
   "mimetype": "text/x-python",
   "name": "python",
   "nbconvert_exporter": "python",
   "pygments_lexer": "ipython3",
   "version": "3.8.5"
  }
 },
 "nbformat": 4,
 "nbformat_minor": 4
}
